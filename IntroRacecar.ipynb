{
 "cells": [
  {
   "cell_type": "markdown",
   "metadata": {},
   "source": [
    "<p style='font-size:1.75rem;line-height:1.5'> Hit Shift + Enter on the two blocks below. This is just set up.</p>"
   ]
  },
  {
   "cell_type": "code",
   "execution_count": 1,
   "metadata": {},
   "outputs": [
    {
     "ename": "ImportError",
     "evalue": "No module named cv2",
     "output_type": "error",
     "traceback": [
      "\u001b[0;31m---------------------------------------------------------------------------\u001b[0m",
      "\u001b[0;31mImportError\u001b[0m                               Traceback (most recent call last)",
      "\u001b[0;32m<ipython-input-1-3262a5458b9b>\u001b[0m in \u001b[0;36m<module>\u001b[0;34m()\u001b[0m\n\u001b[1;32m      2\u001b[0m \u001b[0;32mimport\u001b[0m \u001b[0msys\u001b[0m\u001b[0;34m\u001b[0m\u001b[0m\n\u001b[1;32m      3\u001b[0m \u001b[0msys\u001b[0m\u001b[0;34m.\u001b[0m\u001b[0mpath\u001b[0m\u001b[0;34m.\u001b[0m\u001b[0minsert\u001b[0m\u001b[0;34m(\u001b[0m\u001b[0;36m0\u001b[0m\u001b[0;34m,\u001b[0m \u001b[0;34m'..'\u001b[0m\u001b[0;34m)\u001b[0m\u001b[0;34m\u001b[0m\u001b[0m\n\u001b[0;32m----> 4\u001b[0;31m \u001b[0;32mfrom\u001b[0m \u001b[0mracecar_utils\u001b[0m \u001b[0;32mimport\u001b[0m \u001b[0;34m*\u001b[0m\u001b[0;34m\u001b[0m\u001b[0m\n\u001b[0m",
      "\u001b[0;32m/Users/DanBi/Desktop/OneHourRMS/racecar_utils.py\u001b[0m in \u001b[0;36m<module>\u001b[0;34m()\u001b[0m\n\u001b[1;32m      5\u001b[0m \u001b[0;31m# General\u001b[0m\u001b[0;34m\u001b[0m\u001b[0;34m\u001b[0m\u001b[0m\n\u001b[1;32m      6\u001b[0m \u001b[0;32mimport\u001b[0m \u001b[0mos\u001b[0m\u001b[0;34m\u001b[0m\u001b[0m\n\u001b[0;32m----> 7\u001b[0;31m \u001b[0;32mimport\u001b[0m \u001b[0mcv2\u001b[0m\u001b[0;34m\u001b[0m\u001b[0m\n\u001b[0m\u001b[1;32m      8\u001b[0m \u001b[0;32mimport\u001b[0m \u001b[0mnumpy\u001b[0m \u001b[0;32mas\u001b[0m \u001b[0mnp\u001b[0m\u001b[0;34m\u001b[0m\u001b[0m\n\u001b[1;32m      9\u001b[0m \u001b[0;32mfrom\u001b[0m \u001b[0mmatplotlib\u001b[0m \u001b[0;32mimport\u001b[0m \u001b[0mpyplot\u001b[0m \u001b[0;32mas\u001b[0m \u001b[0mplt\u001b[0m\u001b[0;34m\u001b[0m\u001b[0m\n",
      "\u001b[0;31mImportError\u001b[0m: No module named cv2"
     ]
    }
   ],
   "source": [
    "# Import functions \n",
    "import sys\n",
    "sys.path.insert(0, '..')\n",
    "from racecar_utils import *  "
   ]
  },
  {
   "cell_type": "code",
   "execution_count": 2,
   "metadata": {},
   "outputs": [
    {
     "ename": "NameError",
     "evalue": "name 'rospy' is not defined",
     "output_type": "error",
     "traceback": [
      "\u001b[0;31m---------------------------------------------------------------------------\u001b[0m",
      "\u001b[0;31mNameError\u001b[0m                                 Traceback (most recent call last)",
      "\u001b[0;32m<ipython-input-2-aa11ebd4c086>\u001b[0m in \u001b[0;36m<module>\u001b[0;34m()\u001b[0m\n\u001b[1;32m      1\u001b[0m \u001b[0;31m# Start ROS node\u001b[0m\u001b[0;34m\u001b[0m\u001b[0;34m\u001b[0m\u001b[0m\n\u001b[0;32m----> 2\u001b[0;31m \u001b[0mrospy\u001b[0m\u001b[0;34m.\u001b[0m\u001b[0minit_node\u001b[0m\u001b[0;34m(\u001b[0m\u001b[0;34m'racecar'\u001b[0m\u001b[0;34m)\u001b[0m\u001b[0;34m\u001b[0m\u001b[0m\n\u001b[0m\u001b[1;32m      3\u001b[0m \u001b[0mrc\u001b[0m \u001b[0;34m=\u001b[0m \u001b[0mRacecar\u001b[0m\u001b[0;34m(\u001b[0m\u001b[0;34m)\u001b[0m\u001b[0;34m\u001b[0m\u001b[0m\n\u001b[1;32m      4\u001b[0m \u001b[0;32mprint\u001b[0m\u001b[0;34m(\u001b[0m\u001b[0;34m'ROS node started successfully'\u001b[0m\u001b[0;34m)\u001b[0m\u001b[0;34m\u001b[0m\u001b[0m\n",
      "\u001b[0;31mNameError\u001b[0m: name 'rospy' is not defined"
     ]
    }
   ],
   "source": [
    "# Start ROS node\n",
    "rospy.init_node('racecar')\n",
    "rc = Racecar()\n",
    "print('ROS node started successfully')"
   ]
  },
  {
   "cell_type": "markdown",
   "metadata": {},
   "source": [
    "# Operating the Car\n",
    "\n",
    "<p style='font-size:1.75rem;line-height:1.5'>\n",
    "    <code>drive_speed</code> tells the car how fast it drives. Its value should be between -1.5 and 1.5. Negative means driving backwards, positive means driving forwards. Anything more than 1.5 speed exceeds the limitations of the engine.\n",
    "    <br> <code>drive_angle</code> tells the car how much it should turn. A positive angle means turning left, and a negative angle means turning right. Keep in mind that this value is not equivalent to an exact angle, but it is in the ballpark.\n",
    "    <br> <code>drive_time</code> tells the car how long it should operate for. The value is in seconds.\n",
    "</p>\n",
    "\n",
    "<p style='font-size:1.75rem;line-height:1.5'>\n",
    "    For now, let us experiment with the speed and angle to get used to how the car measurements work. \n",
    "</p>"
   ]
  },
  {
   "cell_type": "code",
   "execution_count": null,
   "metadata": {},
   "outputs": [],
   "source": [
    "drive_speed = #replace this instruction with drive_speed as a number between -1.5 and 1.5.\n",
    "drive_angle = #replace this instruction with drive_angle.\n",
    "drive_time = #replace this instruction with drive_time."
   ]
  },
  {
   "cell_type": "markdown",
   "metadata": {},
   "source": [
    "<p style='font-size:1.75rem;line-height:1.5'> Hit Shift + Enter on the block below to run the car. Remember to hold down the autonomous button for the car to drive. </p>"
   ]
  },
  {
   "cell_type": "code",
   "execution_count": null,
   "metadata": {},
   "outputs": [],
   "source": [
    "def drive_forward(frame):\n",
    "    rc.drive(drive_speed, drive_angle)\n",
    "    \n",
    "rc.run(drive_forward, limit = drive_time)"
   ]
  },
  {
   "cell_type": "markdown",
   "metadata": {},
   "source": [
    "# Shape Driving"
   ]
  },
  {
   "cell_type": "markdown",
   "metadata": {},
   "source": [
    "<p style='font-size:1.75rem;line-height:1.5'>\n",
    "    Drive your car in a circle autonomously! Modify the same values again.\n",
    "    </p>"
   ]
  },
  {
   "cell_type": "code",
   "execution_count": 13,
   "metadata": {},
   "outputs": [
    {
     "ename": "SyntaxError",
     "evalue": "invalid syntax (<ipython-input-13-03056d026547>, line 1)",
     "output_type": "error",
     "traceback": [
      "\u001b[0;36m  File \u001b[0;32m\"<ipython-input-13-03056d026547>\"\u001b[0;36m, line \u001b[0;32m1\u001b[0m\n\u001b[0;31m    drive_speed = #replace this instruction with drive_speed as a number between -1.5 and 1.5.\u001b[0m\n\u001b[0m                                                                                              ^\u001b[0m\n\u001b[0;31mSyntaxError\u001b[0m\u001b[0;31m:\u001b[0m invalid syntax\n"
     ]
    }
   ],
   "source": [
    "drive_speed = #replace this instruction with drive_speed as a number between -1.5 and 1.5.\n",
    "drive_angle = #replace this instruction with drive_angle.\n",
    "drive_time = #replace this instruction with drive_time."
   ]
  },
  {
   "cell_type": "markdown",
   "metadata": {},
   "source": [
    "<p style='font-size:1.75rem;line-height:1.5'> Hit Shift + Enter on the block below to run the car. Remember to hold down the autonomous button for the car to drive. </p>"
   ]
  },
  {
   "cell_type": "code",
   "execution_count": 14,
   "metadata": {},
   "outputs": [
    {
     "ename": "NameError",
     "evalue": "name 'rc' is not defined",
     "output_type": "error",
     "traceback": [
      "\u001b[0;31m---------------------------------------------------------------------------\u001b[0m",
      "\u001b[0;31mNameError\u001b[0m                                 Traceback (most recent call last)",
      "\u001b[0;32m<ipython-input-14-341f91992385>\u001b[0m in \u001b[0;36m<module>\u001b[0;34m()\u001b[0m\n\u001b[1;32m      2\u001b[0m     \u001b[0mrc\u001b[0m\u001b[0;34m.\u001b[0m\u001b[0mdrive\u001b[0m\u001b[0;34m(\u001b[0m\u001b[0mdrive_speed\u001b[0m\u001b[0;34m,\u001b[0m \u001b[0mdrive_angle\u001b[0m\u001b[0;34m)\u001b[0m\u001b[0;34m\u001b[0m\u001b[0m\n\u001b[1;32m      3\u001b[0m \u001b[0;34m\u001b[0m\u001b[0m\n\u001b[0;32m----> 4\u001b[0;31m \u001b[0mrc\u001b[0m\u001b[0;34m.\u001b[0m\u001b[0mrun\u001b[0m\u001b[0;34m(\u001b[0m\u001b[0mdrive_forward\u001b[0m\u001b[0;34m,\u001b[0m \u001b[0mlimit\u001b[0m \u001b[0;34m=\u001b[0m \u001b[0mdrive_time\u001b[0m\u001b[0;34m)\u001b[0m\u001b[0;34m\u001b[0m\u001b[0m\n\u001b[0m",
      "\u001b[0;31mNameError\u001b[0m: name 'rc' is not defined"
     ]
    }
   ],
   "source": [
    "def circle(frame):\n",
    "    rc.drive(drive_speed, drive_angle)\n",
    "    \n",
    "rc.run(drive_forward, limit = drive_time)"
   ]
  },
  {
   "cell_type": "markdown",
   "metadata": {},
   "source": [
    "# Competition: Parking\n",
    "\n",
    "<p style='font-size:1.75rem;line-height:1.5'>\n",
    "    Now, we are going to have a competition where we learn to park cars in front of something. \n",
    "    <br>Here are the rules:\n",
    "    <ol style='font-size:1.75rem;line-height:1.5'>\n",
    "        <li> Winner is the car that <b style='color:green'>starts the furthest away from the object</b>, and <b style='color:green'>parks closest</b> to the object <b style='color:green'>WITHOUT TOUCHING IT</b>. \n",
    "            <br>The highest scoring (aka most accurately parking) car wins.</li> \n",
    "        <br>\n",
    "        <li> <b style='color:magenta'>The car should park autonomously.</b> \n",
    "            <br> Any attempt that involves the joystick taking over control will be disqualified. </li>\n",
    "        <br>\n",
    "        <li> <b style='color:blue'>Please don't hit a wall.</b> <b>Be careful even on your first attempts!</b>\n",
    "            <br> It is better to start off too slow than too fast. <b style='color:red'>START SLOW</b></li>\n",
    "    </ol>\n",
    "</p>\n",
    "\n",
    "<p style='font-size:1.75rem;line-height:1.5'>\n",
    "    Points calculation formula (best attempt):\n",
    "</p>\n",
    "\n",
    "```python\n",
    "points = [start_distance - sqrt(speed)*error] / 12\n",
    "```\n",
    "\n",
    "<p style='font-size:1.75rem;line-height:1.5'>\n",
    "    <b style='color:magenta'>Important, please read:</b> This time, we will also have three more values for stopping the car. Stopping the car just means reversing the wheel to cancel out the momentum of the car. To stop the car, you probably want to set your speed as -1.5 and your time as a fraction of a second. The angle should just be 0 since you are going in a straight line, however, if you find that your car drives off-center and tends to turn a certain direction, then you can set an angle to offset that error.\n",
    "    </p>\n"
   ]
  },
  {
   "cell_type": "code",
   "execution_count": 12,
   "metadata": {},
   "outputs": [],
   "source": [
    "drive_speed = #replace this instruction with drive_speed as a number between -1.5 and 1.5.\n",
    "drive_angle = #replace this instruction with drive_angle.\n",
    "drive_time = #replace this instruction with drive_time.\n",
    "\n",
    "stop_speed = #replace this instruction with stop_speed as a number between -1.5 and 1.5.\n",
    "stop_angle = #replace this instruction with stop_angle.\n",
    "stop_time = #replace this instruction with stop_time."
   ]
  },
  {
   "cell_type": "markdown",
   "metadata": {},
   "source": [
    "<p style='font-size:1.75rem;line-height:1.5'> Hit Shift + Enter on the block below to run the car. Remember to hold down the autonomous button for the car to drive. </p>"
   ]
  },
  {
   "cell_type": "code",
   "execution_count": null,
   "metadata": {},
   "outputs": [],
   "source": [
    "def drive(frame):\n",
    "    rc.drive(drive_speed, drive_angle);\n",
    "\n",
    "def stop(frame):\n",
    "    rc.drive(stop_speed, stop_angle);\n",
    "\n",
    "rc.run(drive, drive_time)\n",
    "rc.run(stop, stop_time)"
   ]
  }
 ],
 "metadata": {
  "kernelspec": {
   "display_name": "Python 2",
   "language": "python",
   "name": "python2"
  },
  "language_info": {
   "codemirror_mode": {
    "name": "ipython",
    "version": 2
   },
   "file_extension": ".py",
   "mimetype": "text/x-python",
   "name": "python",
   "nbconvert_exporter": "python",
   "pygments_lexer": "ipython2",
   "version": "2.7.16"
  }
 },
 "nbformat": 4,
 "nbformat_minor": 2
}
