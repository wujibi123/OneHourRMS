{
 "cells": [
  {
   "cell_type": "code",
   "execution_count": 1,
   "metadata": {},
   "outputs": [],
   "source": [
    "# Import functions \n",
    "import sys\n",
    "sys.path.insert(0, '..')\n",
    "from racecar_utils import *   "
   ]
  },
  {
   "cell_type": "code",
   "execution_count": 2,
   "metadata": {},
   "outputs": [
    {
     "name": "stdout",
     "output_type": "stream",
     "text": [
      "ROS node started successfully\n"
     ]
    }
   ],
   "source": [
    "# Start ROS Node\n",
    "rospy.init_node('racecar')\n",
    "rc = Racecar()\n",
    "print('ROS node started successfully')"
   ]
  },
  {
   "cell_type": "markdown",
   "metadata": {},
   "source": [
    "# Line Following\n",
    "\n",
    "<p style='font-size:1.75rem;line-height:1.5'>\n",
    "    Today, we will create an algorithm for the racecar to detect and follow a colored line. We will have several different tape colors for the car to select from. Each path will lead us on a different path adventure!\n",
    "    </p>\n",
    "    \n",
    "<p style='font-size:1.75rem;line-height:1.5'>    \n",
    "    Depending on the color, the racecar may take a shorter or longer path to its final destination. \n",
    "    </p>"
   ]
  },
  {
   "cell_type": "markdown",
   "metadata": {},
   "source": [
    "## Step 1: Fix the Camera Offset\n",
    "\n",
    "<p style='font-size:1.75rem;line-height:1.5'>\n",
    "    The camera is slightly shifted horizontally (x-axis). \n",
    "    <br> Update <code>SCREEN_CENTER</code> to re-set the center pixel location of your output image.\n",
    "    </p>\n",
    "    \n",
    "<p style='font-size:1.75rem;line-height:1.5'>\n",
    "    The function below draws a circle at <code>SCREEN_CENTER</code>. \n",
    "    <br> How to find the correct value:\n",
    "    <ol style='font-size:1.75rem;line-height:1.5'>\n",
    "        <li>Place an object directly in front of your camera at where you think center is.</li>\n",
    "        <li>Run the two cell blocks below to test your <code>SCREEN_CENTER</code> value. </li>\n",
    "        <li>Your drawn circle should be matched to the center of the object in the outputted image. </li>\n",
    "    </ol>\n",
    "    </p>\n",
    "    \n",
    "<p style='font-size:1.75rem;line-height:1.5'>\n",
    "    Getting the correct <code>SCREEN_CENTER</code> value here will help you later in the the <code>get_angle</code> function.\n",
    "    </p>"
   ]
  },
  {
   "cell_type": "code",
   "execution_count": 3,
   "metadata": {},
   "outputs": [],
   "source": [
    "SCREEN_CENTER = 395.0     # pixel x-axis, camera is right-shifted"
   ]
  },
  {
   "cell_type": "code",
   "execution_count": 4,
   "metadata": {},
   "outputs": [
    {
     "data": {
      "text/plain": [
       "''"
      ]
     },
     "metadata": {},
     "output_type": "display_data"
    }
   ],
   "source": [
    "# mark location of SCREEN_CENTER (x-axis)\n",
    "def identify_center(img):\n",
    "    if SCREEN_CENTER < 0 or SCREEN_CENTER > img.shape[1]:\n",
    "        print('SCREEN_CENTER out of bounds! Your image is: {}'.format(img.shape[:2]))\n",
    "    cv2.circle(img, (int(SCREEN_CENTER), img.shape[0]/2), 5, (0,255,0), 3)\n",
    "    return img\n",
    "\n",
    "# display image\n",
    "show_image(identify_center)"
   ]
  },
  {
   "cell_type": "markdown",
   "metadata": {},
   "source": [
    "## Step 2: Crop Image\n",
    "\n",
    "<p style='font-size:1.75rem;line-height:1.5'>\n",
    "    It is intuitive for us humans to trace the closest part of the line (the part under our feet) as we walk. However, the car sees a long line ahead of itself and doesn't know which part of the line to follow. We want to limit what the car sees/follows by limiting its field of view.\n",
    "      </p>\n",
    "\n",
    "<p style='font-size:1.75rem;line-height:1.5'>\n",
    "    Modify <code>TOPLEFT_COORD</code> and <code>BOTTOMRIGHT_COORD</code> to crop the image below. The function draws a black rectangle over the top half of the image, showing only the part of the line that is closest to the car.\n",
    "    </p>"
   ]
  },
  {
   "cell_type": "code",
   "execution_count": 5,
   "metadata": {},
   "outputs": [],
   "source": [
    "TOPLEFT_COORD = (0, 400)\n",
    "BOTTOMRIGHT_COORD = (639, 0)"
   ]
  },
  {
   "cell_type": "code",
   "execution_count": 6,
   "metadata": {},
   "outputs": [
    {
     "data": {
      "image/jpeg": "[encoded data removed]",
      "text/plain": [
       "<IPython.core.display.Image object>"
      ]
     },
     "metadata": {},
     "output_type": "display_data"
    }
   ],
   "source": [
    "#draws rectangle over frame to crop\n",
    "def crop(img):\n",
    "    cv2.rectangle(img, TOPLEFT_COORD, BOTTOMRIGHT_COORD, (0, 0, 0), -1) \n",
    "    return img\n",
    "\n",
    "show_image(crop)"
   ]
  },
  {
   "cell_type": "markdown",
   "metadata": {},
   "source": [
    "## Step 3: Find HSV Range of the Line\n",
    "\n",
    "<p style='font-size:1.75rem;line-height:1.5'>\n",
    "    Set the HSV lower and upper bounds to detect the line!\n",
    "    <ol style='font-size:1.75rem;line-height:1.5'>\n",
    "        <li>Use <code>hsv_select(&lt;seconds&gt;)</code> to mask for the cone!</li>\n",
    "        <li>Update <code>HSV_LOWER</code> and <code>HSV_UPPER</code>!</li>\n",
    "    </ol>\n",
    "    </p>"
   ]
  },
  {
   "cell_type": "code",
   "execution_count": 7,
   "metadata": {
    "scrolled": true
   },
   "outputs": [
    {
     "data": {
      "image/jpeg": "[encoded data removed]",
      "text/plain": [
       "<IPython.core.display.Image object>"
      ]
     },
     "metadata": {},
     "output_type": "display_data"
    },
    {
     "data": {
      "application/vnd.jupyter.widget-view+json": {
       "model_id": "b3629460a3604989903952324ae1d23b",
       "version_major": 2,
       "version_minor": 0
      },
      "text/plain": [
       "IntRangeSlider(value=(0, 179), description=u'Hue:', layout=Layout(width=u'100%'), max=179)"
      ]
     },
     "metadata": {},
     "output_type": "display_data"
    },
    {
     "data": {
      "application/vnd.jupyter.widget-view+json": {
       "model_id": "99775f44d52047d59c8cff551ad92368",
       "version_major": 2,
       "version_minor": 0
      },
      "text/plain": [
       "IntRangeSlider(value=(0, 255), description=u'Saturation:', layout=Layout(width=u'100%'), max=255)"
      ]
     },
     "metadata": {},
     "output_type": "display_data"
    },
    {
     "data": {
      "application/vnd.jupyter.widget-view+json": {
       "model_id": "085d402aca3847cbb7daacf8ae0648af",
       "version_major": 2,
       "version_minor": 0
      },
      "text/plain": [
       "IntRangeSlider(value=(0, 255), description=u'Value:', layout=Layout(width=u'100%'), max=255)"
      ]
     },
     "metadata": {},
     "output_type": "display_data"
    }
   ],
   "source": [
    "VIDEO_TIME = 100\n",
    "hsv_select_live(VIDEO_TIME) # default: 10 sec"
   ]
  },
  {
   "cell_type": "code",
   "execution_count": 8,
   "metadata": {},
   "outputs": [],
   "source": [
    "HSV_LOWER_1 = np.array([31, 78, 0])\n",
    "HSV_UPPER_1 = np.array([179, 255, 255])"
   ]
  },
  {
   "cell_type": "markdown",
   "metadata": {},
   "source": [
    "## Step 4: <code>get_angle</code>\n",
    "\n",
    "<p style='font-size:1.75rem;line-height:1.5'>\n",
    "    Now that we have the point we want to follow, we have to <b>determine what angle to turn the car</b> in order to get to that point.\n",
    "    </p>\n",
    "\n",
    "<p style='font-size:1.75rem;line-height:1.5'>\n",
    "    <code>get_angle</code> returns the turn angle of the car. We will determine whether to turn left or right, and how much to turn, depending on the location of the cone in our image. When the cone is at the center of the image, the car and cone are aligned. \n",
    "    </p>\n",
    "\n",
    "<p style='font-size:1.75rem;line-height:1.5'>\n",
    "    This function is similar to the one we wrote for Cone Following, but NOT exactly. \n",
    "    <ul style='font-size:1.75rem;line-height:1.5'>\n",
    "        <li>The center of the cone is found at <code>contour_center</code></li>\n",
    "        <li>Calculate the offset error: \n",
    "            <br><code>error = contour_center - float(SCREEN_CENTER)</code></li>\n",
    "        <li>Calculate the ratio that the cone is away from the center of the screen: \n",
    "            <br><code>ratio = error / SCREEN_CENTER</code></li>\n",
    "        <li>Multiply <code>ratio</code> by the <code>max_angle</code> to find the return angle. </li>\n",
    "    </ul>\n",
    "    </p>"
   ]
  },
  {
   "cell_type": "code",
   "execution_count": 9,
   "metadata": {},
   "outputs": [],
   "source": [
    "TURN_FACTOR = 30          # max turn angle (in degrees)\n",
    "DRIVE_SPEED = 0.215       # car speed      "
   ]
  },
  {
   "cell_type": "code",
   "execution_count": 10,
   "metadata": {},
   "outputs": [],
   "source": [
    "def get_angle(contour_center):\n",
    "    max_angle = -abs(TURN_FACTOR) \n",
    "    \n",
    "    # TASK #1: Calculate the offset error\n",
    "    error = contour_center - float(SCREEN_CENTER)\n",
    "\n",
    "    # TASK #2: Calculate the ratio\n",
    "    ratio = error/SCREEN_CENTER\n",
    "\n",
    "    # TASK #3: Calculate the turn angle\n",
    "    angle = ratio*max_angle \n",
    "\n",
    "    # TASK #4: Return the turn angle\n",
    "    return angle"
   ]
  },
  {
   "cell_type": "markdown",
   "metadata": {},
   "source": [
    "## Step 5: <code>get_contour_center</code>\n",
    "\n",
    "<p style='font-size:1.75rem;line-height:1.5'>\n",
    "    <code>get_contour_center</code> returns the center of the largest contour (if contours exist). Else, the function returns None. \n",
    "    </p>\n",
    "    \n",
    "<p style='font-size:1.75rem;line-height:1.5'>\n",
    "    Run the cell block below.\n",
    "    </p>"
   ]
  },
  {
   "cell_type": "code",
   "execution_count": 11,
   "metadata": {},
   "outputs": [],
   "source": [
    "EXIST_SIZE = 30"
   ]
  },
  {
   "cell_type": "code",
   "execution_count": 12,
   "metadata": {},
   "outputs": [],
   "source": [
    "def get_contour_center(contours):\n",
    "    greatest_contour = None\n",
    "    if len(contours) > 0:\n",
    "        greatest_contour = max(contours, key = cv2.contourArea) # get largest contour\n",
    "        if cv2.contourArea(greatest_contour) < EXIST_SIZE:\n",
    "            greatest_contour = None \n",
    "    M = None\n",
    "    if greatest_contour is not None:\n",
    "        M = cv2.moments(greatest_contour)\n",
    "    return M"
   ]
  },
  {
   "cell_type": "markdown",
   "metadata": {},
   "source": [
    "## Step 6: <code>line_following</code>\n",
    "\n",
    "<p style='font-size:1.75rem;line-height:1.5'>\n",
    "    Now, let us write the <code>line_following</code> function below: \n",
    "    </p>"
   ]
  },
  {
   "cell_type": "code",
   "execution_count": 13,
   "metadata": {},
   "outputs": [],
   "source": [
    "DEBUG = True      # show video"
   ]
  },
  {
   "cell_type": "code",
   "execution_count": 14,
   "metadata": {},
   "outputs": [],
   "source": [
    "def line_following(frame):\n",
    "    frame = crop(frame) #draws rectangle over frame to crop\n",
    "    \n",
    "    # TASK #1: Convert frame from BGR to HSV\n",
    "    img_hsv = cv2.cvtColor(frame, cv2.COLOR_BGR2HSV)\n",
    "    \n",
    "    # TASK #2: Mask the image via HSV_LOWER and HSV_UPPER\n",
    "    mask = cv2.inRange(img_hsv, HSV_LOWER_1, HSV_UPPER_1)\n",
    "    \n",
    "    # TASK #3: Find the contours\n",
    "    contours = cv2.findContours(mask, 3, 2)[1]\n",
    "     \n",
    "    # TASK #4: Call 'get_contour_center', and save as 'M'. This function accepts on argument: 'contours'.\n",
    "    #          This function returns the center of the largest contour (if contours exist), else returns None\n",
    "    M = get_contour_center(contours)\n",
    "    \n",
    "    if M is not None:\n",
    "        if M['m00'] != 0:\n",
    "            x, y = int(M['m10'] / M['m00']), int(M['m01'] / M['m00'])\n",
    "            contour_center = x\n",
    "            \n",
    "            # TASK #5: Draw all the contours \n",
    "            cv2.drawContours(frame, contours, -1, (255, 0, 0), 2)\n",
    "            \n",
    "            # TASK #6: Draw a circle at the contour center\n",
    "            cv2.circle(frame, (x, y), 10, (255, 0, 0), -1)\n",
    "            \n",
    "            # show image\n",
    "            if DEBUG:\n",
    "                show_frame(frame)\n",
    "            \n",
    "            # TASK #7: Call 'get_angle', giving it 'contour_center' as the argument\n",
    "            angle = get_angle(contour_center)\n",
    "            \n",
    "            # TASK #8: Call 'rc.drive', with parameters: 'DRIVE_SPEED' and 'angle'\n",
    "            rc.drive(DRIVE_SPEED, angle)"
   ]
  },
  {
   "cell_type": "markdown",
   "metadata": {},
   "source": [
    "## Step 7: Test our Line Follower!\n",
    "\n",
    "<p style='font-size:1.75rem;line-height:1.5'>\n",
    "    Run the block below to test our written functions above!\n",
    "    </p>\n",
    "\n",
    "<p style='font-size:1.75rem;line-height:1.5'>\n",
    "    <b style='color:red'>Remember to get a sticker from a TA before taking your car off the block!</b>\n",
    "    </p>"
   ]
  },
  {
   "cell_type": "code",
   "execution_count": 15,
   "metadata": {},
   "outputs": [],
   "source": [
    "# For debugging\n",
    "TEST_TIME = 10    # test time for autonomous driving"
   ]
  },
  {
   "cell_type": "code",
   "execution_count": 17,
   "metadata": {
    "scrolled": false
   },
   "outputs": [
    {
     "data": {
      "image/jpeg": "[encoded data removed]",
      "text/plain": [
       "<IPython.core.display.Image object>"
      ]
     },
     "metadata": {},
     "output_type": "display_data"
    },
    {
     "name": "stdout",
     "output_type": "stream",
     "text": [
      "END OF ROSPY RUN\n"
     ]
    }
   ],
   "source": [
    "# setup display\n",
    "display = IPython.display.display('', display_id=current_display_id)\n",
    "current_display_id += 1\n",
    "\n",
    "# run the line_following function!\n",
    "rc.run(line_following, TEST_TIME)"
   ]
  },
  {
   "cell_type": "markdown",
   "metadata": {},
   "source": [
    "## Step 8: Parameter Tuning\n",
    "\n",
    "<p style='font-size:1.75rem;line-height:1.5'>\n",
    "    Tune the following parameters to improve your line follower!\n",
    "    <ul style='font-size:1.75rem;line-height:1.5'>\n",
    "        <li><code>SCREEN_CENTER</code>: to adjust for screen center offset</li>\n",
    "        <li><code>TOPLEFT_COORD</code> and <code>BOTTOMRIGHT_COORD</code>: to adjust the crop size view area</li>\n",
    "        <li><code>HSV_LOWER</code> and <code>HSV_UPPER</code>: to adjust the threshold color</li>\n",
    "        <li><code>TURN_FACTOR</code>: for the turn intensity of the car</li>\n",
    "        <li><code>DRIVE_SPEED</code>: for the speed of the car</li>\n",
    "    </ul>\n",
    "    </p>"
   ]
  },
  {
   "cell_type": "markdown",
   "metadata": {},
   "source": [
    "# Line Following Competition!!!\n",
    "\n",
    "<p style='font-size:1.75rem;line-height:1.5'>\n",
    "    We have prepared a race track, where we will compete against other teams to finish the course in the shortest time AND follow the line with most elegance.\n",
    "    </p>\n",
    "\n",
    "<p style='font-size:1.75rem;line-height:1.5'>\n",
    "    Each judge will rank teams (<code>1</code> - <code>10</code>) based on: time, speed, accuracy, and elegance.\n",
    "    </p>\n",
    "    \n",
    "\n",
    "<p style='font-size:1.75rem;line-height:1.5'>\n",
    "    The final score is:\n",
    "    </p>\n",
    "    \n",
    "```python\n",
    "score = judges_total_score - (time / 2)\n",
    "```"
   ]
  }
 ],
 "metadata": {
  "kernelspec": {
   "display_name": "Python 2",
   "language": "python",
   "name": "python2"
  },
  "language_info": {
   "codemirror_mode": {
    "name": "ipython",
    "version": 2
   },
   "file_extension": ".py",
   "mimetype": "text/x-python",
   "name": "python",
   "nbconvert_exporter": "python",
   "pygments_lexer": "ipython2",
   "version": "2.7.16"
  }
 },
 "nbformat": 4,
 "nbformat_minor": 2
}
