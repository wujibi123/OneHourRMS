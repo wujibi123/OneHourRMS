{
 "cells": [
  {
   "cell_type": "code",
   "execution_count": null,
   "metadata": {},
   "outputs": [],
   "source": [
    "import cv2\n",
    "import time\n",
    "import PIL.Image\n",
    "from io import BytesIO\n",
    "import IPython.display"
   ]
  },
  {
   "cell_type": "code",
   "execution_count": null,
   "metadata": {},
   "outputs": [],
   "source": [
    "### TEST 1: Picture (might be dark, that is fine) ###\n",
    "video = cv2.VideoCapture(2)\n",
    "display1 = IPython.display.display('', display_id=1)\n",
    "frame = video.read()[1]\n",
    "frame = cv2.cvtColor(frame, cv2.COLOR_BGR2RGB)\n",
    "f = BytesIO()\n",
    "PIL.Image.fromarray(frame).save(f, 'jpeg')\n",
    "img = IPython.display.Image(data=f.getvalue())\n",
    "display1.update(img)\n",
    "video.release()"
   ]
  },
  {
   "cell_type": "code",
   "execution_count": null,
   "metadata": {},
   "outputs": [],
   "source": [
    "### TEST 2: Video (slow frame rate and ~2 second delay is fine) ###\n",
    "video = cv2.VideoCapture(2)\n",
    "video.set(3,320) # width\n",
    "video.set(4,240) # height\n",
    "display2 = IPython.display.display('', display_id=2)\n",
    "start_time = time.time()\n",
    "time_limit = 10\n",
    "while time.time() - start_time < time_limit:\n",
    "    frame = video.read()[1]\n",
    "    frame = cv2.cvtColor(frame, cv2.COLOR_BGR2RGB)\n",
    "    f = BytesIO()\n",
    "    PIL.Image.fromarray(frame).save(f, 'jpeg')\n",
    "    img = IPython.display.Image(data=f.getvalue())\n",
    "    display2.update(img)\n",
    "    time.sleep(0.25)\n",
    "video.release()"
   ]
  }
 ],
 "metadata": {
  "kernelspec": {
   "display_name": "Python 2",
   "language": "python",
   "name": "python2"
  },
  "language_info": {
   "codemirror_mode": {
    "name": "ipython",
    "version": 2
   },
   "file_extension": ".py",
   "mimetype": "text/x-python",
   "name": "python",
   "nbconvert_exporter": "python",
   "pygments_lexer": "ipython2",
   "version": "2.7.16"
  }
 },
 "nbformat": 4,
 "nbformat_minor": 2
}
