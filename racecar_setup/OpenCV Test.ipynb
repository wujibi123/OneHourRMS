{
 "cells": [
  {
   "cell_type": "code",
   "execution_count": null,
   "metadata": {},
   "outputs": [],
   "source": [
    "import cv2\n",
    "import numpy as np\n",
    "import matplotlib\n",
    "from matplotlib import pyplot as plt\n",
    "import PIL.Image\n",
    "from io import BytesIO\n",
    "import IPython.display\n",
    "import time"
   ]
  },
  {
   "cell_type": "code",
   "execution_count": null,
   "metadata": {},
   "outputs": [],
   "source": [
    "# Displays unscaled original image (png format)\n",
    "def show_image(image, display):\n",
    "    image = cv2.cvtColor(image, cv2.COLOR_BGR2RGB)\n",
    "    f = BytesIO()\n",
    "    PIL.Image.fromarray(image).save(f, 'png')\n",
    "    img = IPython.display.Image(data=f.getvalue())\n",
    "    display.update(img)\n",
    "\n",
    "# Displays compressed frame for video (jpg format)\n",
    "def show_frame(frame, display):\n",
    "    frame = cv2.cvtColor(frame, cv2.COLOR_BGR2RGB)\n",
    "    f = BytesIO()\n",
    "    PIL.Image.fromarray(frame).save(f, 'jpeg')\n",
    "    img = IPython.display.Image(data=f.getvalue())\n",
    "    display.update(img)"
   ]
  },
  {
   "cell_type": "markdown",
   "metadata": {},
   "source": [
    "### Package Versions"
   ]
  },
  {
   "cell_type": "code",
   "execution_count": null,
   "metadata": {},
   "outputs": [],
   "source": [
    "print('cv2 version: {}'.format(cv2.__version__))\n",
    "print('numpy version: {}'.format(np.version.version))\n",
    "print('matplotlib verison: {}'.format(matplotlib.__version__))"
   ]
  },
  {
   "cell_type": "markdown",
   "metadata": {},
   "source": [
    "### NumPy"
   ]
  },
  {
   "cell_type": "code",
   "execution_count": null,
   "metadata": {},
   "outputs": [],
   "source": [
    "# numpy test - create array of zeros\n",
    "np.zeros((500, 500, 3), np.uint8)"
   ]
  },
  {
   "cell_type": "markdown",
   "metadata": {},
   "source": [
    "### Matplotlib + Pyplot"
   ]
  },
  {
   "cell_type": "code",
   "execution_count": null,
   "metadata": {},
   "outputs": [],
   "source": [
    "# create checkerboard pattern numpy array\n",
    "img = np.array([[0, 1, 0, 1, 0, 1, 0, 1, 0, 1],\n",
    "               [1, 0, 1, 0, 1, 0, 1, 0, 1, 0],\n",
    "               [0, 1, 0, 1, 0, 1, 0, 1, 0, 1],\n",
    "               [1, 0, 1, 0, 1, 0, 1, 0, 1, 0],\n",
    "               [0, 1, 0, 1, 0, 1, 0, 1, 0, 1],\n",
    "               [1, 0, 1, 0, 1, 0, 1, 0, 1, 0],\n",
    "               [0, 1, 0, 1, 0, 1, 0, 1, 0, 1],\n",
    "               [1, 0, 1, 0, 1, 0, 1, 0, 1, 0],\n",
    "               [0, 1, 0, 1, 0, 1, 0, 1, 0, 1],\n",
    "               [1, 0, 1, 0, 1, 0, 1, 0, 1, 0]])\n",
    "\n",
    "# show image\n",
    "plt.imshow(img)\n",
    "plt.show()"
   ]
  },
  {
   "cell_type": "markdown",
   "metadata": {},
   "source": [
    "### CV2 Image"
   ]
  },
  {
   "cell_type": "code",
   "execution_count": null,
   "metadata": {},
   "outputs": [],
   "source": [
    "# read image\n",
    "img = cv2.imread(\"surprised_pikachu.png\")\n",
    "\n",
    "# draw line on image\n",
    "cv2.line(img, (0, 0), (499, 499), (255, 0, 0), 5)\n",
    "\n",
    "# show image\n",
    "display1 = IPython.display.display('', display_id=1)\n",
    "show_image(img, display1)"
   ]
  },
  {
   "cell_type": "markdown",
   "metadata": {},
   "source": [
    "### CV2 SIFT/SURF"
   ]
  },
  {
   "cell_type": "code",
   "execution_count": null,
   "metadata": {},
   "outputs": [],
   "source": [
    "# cv2 SIFT/SURF test - run feature detection to make sure opencv-contrib is compatible\n",
    "\n",
    "# read image into grayscale\n",
    "img = cv2.imread('mit_stata_center.jpg')\n",
    "gray = cv2.cvtColor(img, cv2.COLOR_BGR2GRAY)\n",
    "\n",
    "# get SIFT keypoints & descriptors\n",
    "sift = cv2.xfeatures2d.SIFT_create()\n",
    "(keypoints, descriptors) = sift.detectAndCompute(gray, None)\n",
    "print('# keypoints: {}, descriptors: {}'.format(len(keypoints), descriptors.shape))\n",
    "\n",
    "# draw keypoints ([flags] 0:kp+grayscale, 1:kp+color, cv2.DRAW_MATCHES_FLAGS_DRAW_RICH_KEYPOINTS:kp+size+orientation)\n",
    "cv2.drawKeypoints(gray, keypoints, img, flags=2)\n",
    "\n",
    "# show image\n",
    "display2 = IPython.display.display('', display_id=2)\n",
    "show_image(img, display1)"
   ]
  },
  {
   "cell_type": "markdown",
   "metadata": {},
   "source": [
    "### CV2 Video"
   ]
  },
  {
   "cell_type": "code",
   "execution_count": null,
   "metadata": {},
   "outputs": [],
   "source": [
    "# video camera test - show raw video stream\n",
    "\n",
    "display3 = IPython.display.display('', display_id=3)\n",
    "start_time = time.time()\n",
    "time_limit = 10\n",
    "\n",
    "cap = cv2.VideoCapture(2)\n",
    "\n",
    "while time.time() - start_time < time_limit:\n",
    "    # Capture frame-by-frame\n",
    "    ret, frame = cap.read()\n",
    "\n",
    "    # Display the resulting frame\n",
    "    show_frame(frame, display3)\n",
    "    time.sleep(0.25)\n",
    "\n",
    "# When everything done, release the capture\n",
    "cap.release()"
   ]
  },
  {
   "cell_type": "markdown",
   "metadata": {},
   "source": [
    "### CV2 Video Overlay"
   ]
  },
  {
   "cell_type": "code",
   "execution_count": null,
   "metadata": {},
   "outputs": [],
   "source": [
    "# video/cv2 test - modify and show video with opencv\n",
    "\n",
    "display4 = IPython.display.display('', display_id=4)\n",
    "start_time = time.time()\n",
    "time_limit = 10\n",
    "\n",
    "cap = cv2.VideoCapture(2)\n",
    "\n",
    "while time.time() - start_time < time_limit:\n",
    "    # Capture frame-by-frame\n",
    "    ret, frame = cap.read()\n",
    "\n",
    "    # Add text to frame\n",
    "    font = cv2.FONT_HERSHEY_SIMPLEX\n",
    "    cv2.putText(frame,'This is okay; press `esc` to exit',(10,300), font, 1,(255,255,255),2,cv2.LINE_AA)\n",
    "    \n",
    "    # Display frame\n",
    "    show_frame(frame, display4)\n",
    "    time.sleep(0.25)\n",
    "\n",
    "# When everything done, release the capture\n",
    "cap.release()"
   ]
  }
 ],
 "metadata": {
  "kernelspec": {
   "display_name": "Python 2",
   "language": "python",
   "name": "python2"
  },
  "language_info": {
   "codemirror_mode": {
    "name": "ipython",
    "version": 2
   },
   "file_extension": ".py",
   "mimetype": "text/x-python",
   "name": "python",
   "nbconvert_exporter": "python",
   "pygments_lexer": "ipython2",
   "version": "2.7.15rc1"
  }
 },
 "nbformat": 4,
 "nbformat_minor": 2
}
